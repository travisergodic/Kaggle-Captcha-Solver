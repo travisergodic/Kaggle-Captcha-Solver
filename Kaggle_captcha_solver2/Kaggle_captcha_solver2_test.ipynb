{
 "cells": [
  {
   "cell_type": "markdown",
   "id": "brown-special",
   "metadata": {},
   "source": [
    "# 驗證碼辨識-YOLO\n",
    "\n",
    "專案目標是辨識 [Kaggle 驗證碼資料](https://www.kaggle.com/genesis16/captcha-4-letter)，這次將採用 **YOLO v3** 模型先找出每個字元的位置，再對每個字元逐一辨識，這種方法彈性更高，可以解決驗證碼字元位置分布不固定的問題，以下為此專案的大致步驟，其中，步驟 1,2 會放在 README.md 文檔中做說明:\n",
    " 1. 標註驗證碼圖像\n",
    " 2. 將標註過的驗證碼圖像放進 **YOLO v3** 模型訓練\n",
    " 3. 使用 **YOLO v3** 模型對驗證碼圖像的字元識別並剪裁\n",
    " 4. 將剪裁圖像放入捲積神經網路進行訓練"
   ]
  },
  {
   "cell_type": "markdown",
   "id": "collect-stylus",
   "metadata": {},
   "source": [
    "## Step0: 導入模塊與載入 YOLO v3 模型"
   ]
  },
  {
   "cell_type": "code",
   "execution_count": 1,
   "id": "funny-authorization",
   "metadata": {},
   "outputs": [
    {
     "name": "stdout",
     "output_type": "stream",
     "text": [
      "Python Version:  3.7.8\n",
      "TensorFlow Version:  2.4.1\n",
      "NumPy Version:  1.19.5\n",
      "OpenCV Version:  4.5.1\n"
     ]
    }
   ],
   "source": [
    "from platform import python_version\n",
    "import tensorflow as tf \n",
    "from tensorflow import keras\n",
    "from tensorflow.keras import layers\n",
    "import numpy as np\n",
    "import matplotlib.pyplot as plt\n",
    "import cv2\n",
    "import os\n",
    "import shutil\n",
    "import glob\n",
    "\n",
    "print('Python Version: ', python_version())\n",
    "print('TensorFlow Version: ', tf.__version__)\n",
    "print('NumPy Version: ', np.__version__)\n",
    "print('OpenCV Version: ', cv2.__version__)"
   ]
  },
  {
   "cell_type": "code",
   "execution_count": 2,
   "id": "native-ordinance",
   "metadata": {},
   "outputs": [],
   "source": [
    "# 載入 YOLO v3 模型\n",
    "weight_file = 'yolov3_training_2000.weights'\n",
    "cfg_file = 'yolov3_testing.cfg'\n",
    "classes = ['char']\n",
    "\n",
    "net = cv2.dnn.readNet(weight_file, cfg_file)\n",
    "layer_names = net.getLayerNames()\n",
    "output_layers = [layer_names[i[0] - 1] for i in net.getUnconnectedOutLayers()]"
   ]
  },
  {
   "attachments": {
    "image.png": {
     "image/png": "[encoded data removed]"
    }
   },
   "cell_type": "markdown",
   "id": "architectural-premium",
   "metadata": {},
   "source": [
    "## Step1: 定義 find_bbox 函數\n",
    "find_bbox 函數會找出圖像的 bounding boxes，如下圖所示。\n",
    "![image.png](attachment:image.png)"
   ]
  },
  {
   "cell_type": "code",
   "execution_count": 17,
   "id": "vocal-bachelor",
   "metadata": {},
   "outputs": [],
   "source": [
    "# https://www.youtube.com/watch?v=h56M5iUVgGs\n",
    "\n",
    "def find_bbox(img_path):\n",
    "    \"\"\"\n",
    "    return img, bboxes\n",
    "    \"\"\"\n",
    "    img = cv2.imread(img_path)\n",
    "    img = cv2.resize(img, (400, 100), interpolation=cv2.INTER_AREA)\n",
    "    \n",
    "    height, width, channels = img.shape\n",
    "\n",
    "    # 圖像預處理\n",
    "    # bolbs 有一個元素，該元素的 shape 為 (3, 416, 416)\n",
    "    blobs = cv2.dnn.blobFromImage(img, \n",
    "                                  0.00392, # rescale \n",
    "                                 (416, 416), # 不能改，訓練時就是使用這個形狀當作輸入\n",
    "                                 (0, 0, 0), # minus each channel \n",
    "                                 True, # swap 'rgb' mode \n",
    "                                 crop=False)\n",
    "    \n",
    "    # 輸入 blobs 到 nn \n",
    "    net.setInput(blobs)\n",
    "    # 取得 nn 輸出 \n",
    "    outs = net.forward(output_layers)\n",
    "\n",
    "    confidences = []\n",
    "    boxes = [] \n",
    "    \n",
    "    # outs 長度為 3，會偵測 bolbs 中每個元素三個 channel 對應的 detection\n",
    "    # detection 對應的是每一個 bbox 的訊息 \n",
    "    # detection[0]: bbox 中心點 x 座標, detection[1]: bbox 中心點 y 座標 (使用比例衡量)\n",
    "    # detection[2]: bbox 寬度, detection[3]: bbox 長度 (使用比例衡量)\n",
    "    # detection[5:]: 各類別的 confidence score vector \n",
    "\n",
    "    for out in outs:\n",
    "        for detection in out:\n",
    "            scores = detection[5:]\n",
    "            class_id = np.argmax(scores)\n",
    "            confidence = scores[class_id]\n",
    "            if confidence > 0.5:\n",
    "                center_x = int(detection[0] * width)\n",
    "                center_y = int(detection[1] * height)\n",
    "                \n",
    "                w = int(detection[2] * width)\n",
    "                h = int(detection[3] * height)\n",
    "                x = int(center_x - w / 2)\n",
    "                y = int(center_y - h / 2)\n",
    "                \n",
    "                boxes.append([x, y, w, h])\n",
    "                confidences.append(float(confidence))\n",
    "    \n",
    "    # NMS 的四個參數 boxes, confidences, score_threshold, nms_threshold\n",
    "    # boxes\n",
    "    # confidence: 長度與 boxes 一樣\n",
    "    # score_threshold: 過濾掉 confidence 小於這個值的 boxes\n",
    "    # nms_threshold: 過濾掉 IOU 大於這個值得 boxes\n",
    "    # 返回: 剩下的 boxes 對應的 indexes，shape 為 (剩下 boxes 個數, 1)\n",
    "    indexes = cv2.dnn.NMSBoxes(boxes, confidences, 0.5, 0.4)\n",
    "    if indexes.shape[0] != 4:\n",
    "        return \n",
    "    extracted_boxes = [boxes[indexes[0,0]], boxes[indexes[1,0]], boxes[indexes[2,0]], boxes[indexes[3,0]]]\n",
    "    \n",
    "    # 對 extracted_boxes 進行排序，從左到右排\n",
    "    extracted_boxes.sort(key=lambda x: x[0])\n",
    "    return img, extracted_boxes"
   ]
  },
  {
   "cell_type": "code",
   "execution_count": null,
   "id": "neutral-vaccine",
   "metadata": {},
   "outputs": [],
   "source": [
    "# 範例\n",
    "img, extracted_boxes = find_bbox('./captcha/2NNC.png')\n",
    "\n",
    "for i in range(len(extracted_boxes)):\n",
    "    x, y, w, h = extracted_boxes[i]\n",
    "    cv2.rectangle(img, (x, y), (x + w, y + h), (0, 0, 255), 2)\n",
    "\n",
    "cv2.imshow('Character Detection', img)\n",
    "cv2.waitKey(0)\n",
    "cv2.destroyAllWindows()"
   ]
  },
  {
   "cell_type": "markdown",
   "id": "maritime-closing",
   "metadata": {},
   "source": [
    "## Step2: 建立訓練, 驗證與測試集\n",
    "訓練與驗證集的資料為對原始驗證碼圖像剪裁後的圖像，會使用上一步驟定義的 find_bboxes 函數對驗證碼圖像進行剪裁，測試集圖像則為原始驗證碼圖像。"
   ]
  },
  {
   "cell_type": "code",
   "execution_count": 3,
   "id": "upset-spread",
   "metadata": {},
   "outputs": [],
   "source": [
    "# 訓練, 測試分割\n",
    "images_path = np.array(glob.glob('./captcha/*.png'))\n",
    "np.random.shuffle(images_path)\n",
    "\n",
    "train_images_path = images_path[:1200]\n",
    "test_images_path = images_path[1200:1400]"
   ]
  },
  {
   "cell_type": "code",
   "execution_count": null,
   "id": "prospective-optimum",
   "metadata": {},
   "outputs": [],
   "source": [
    "# 新增資料夾, 作為訓練與測試\n",
    "os.mkdir('./crop_image/')\n",
    "os.mkdir('./crop_image/train')\n",
    "os.mkdir('./crop_image/test')"
   ]
  },
  {
   "cell_type": "code",
   "execution_count": 23,
   "id": "czech-background",
   "metadata": {},
   "outputs": [
    {
     "name": "stdout",
     "output_type": "stream",
     "text": [
      "訓練集無法正確辨識的圖片數量: 35\n",
      "整個資料集出現的所有字元: ['2', '3', '4', '5', '6', '7', '8', '9', 'A', 'B', 'C', 'D', 'E', 'F', 'G', 'H', 'J', 'K', 'L', 'M', 'N', 'P', 'Q', 'R', 'S', 'T', 'U', 'V', 'W', 'X', 'Y', 'Z']\n",
      "訓練集出現的字元: ['2', '3', '4', '5', '6', '7', '8', '9', 'A', 'B', 'C', 'D', 'E', 'F', 'G', 'H', 'J', 'K', 'L', 'M', 'N', 'P', 'Q', 'R', 'S', 'T', 'U', 'V', 'W', 'X', 'Y', 'Z']\n"
     ]
    }
   ],
   "source": [
    "# 建立訓練集\n",
    "char_dict = {}\n",
    "count = 0\n",
    "\n",
    "# size of every cropped image after resizing\n",
    "img_height, img_width, channel = 50, 36, 1 \n",
    "\n",
    "# crop images \n",
    "for img_path in train_images_path:\n",
    "    try:\n",
    "        img, extracted_boxes = find_bbox(img_path)\n",
    "        label = img_path.split(os.path.sep)[-1].split('.')[0]\n",
    "    except:   # if the image cannot correctly recognize\n",
    "        count += 1\n",
    "        continue \n",
    "    \n",
    "    for i in range(4): \n",
    "        char = label[i]\n",
    "        x, y, w, h = extracted_boxes[i]\n",
    "        x, y = abs(x), abs(y)\n",
    "        save_path = './crop_image/train/' + char + '/'\n",
    "        if char in char_dict: \n",
    "            char_dict[char] += 1\n",
    "        else: \n",
    "            char_dict[char] = 1\n",
    "            os.mkdir(save_path)\n",
    "        # shape of cropped images after resizing: (50,36,3)\n",
    "        crop_img = cv2.resize(img[y:y+h, x:x+w], (img_width, img_height), interpolation=cv2.INTER_AREA)\n",
    "        crop_img = cv2.cvtColor(crop_img, cv2.COLOR_BGR2GRAY)\n",
    "        cv2.imwrite(save_path + char + '_' + str(char_dict[char]) + '.png', crop_img)\n",
    "        \n",
    "labels = [img_path.split(os.path.sep)[-1].split('.')[0] for img_path in images_path]\n",
    "characters = list(set(char for label in labels for char in label))\n",
    "characters.sort()\n",
    "\n",
    "print('訓練集無法正確辨識的圖片數量:', count)\n",
    "print('整個資料集出現的所有字元:', characters)\n",
    "print('訓練集出現的字元:', os.listdir('./crop_image/train/'))"
   ]
  },
  {
   "cell_type": "code",
   "execution_count": 6,
   "id": "false-greek",
   "metadata": {},
   "outputs": [],
   "source": [
    "characters = ['2', '3', '4', '5', '6', '7', '8', '9', 'A', 'B', 'C', 'D', 'E', 'F', 'G', 'H', 'J', 'K', 'L', 'M', 'N', 'P', 'Q', 'R', 'S', 'T', 'U', 'V', 'W', 'X', 'Y', 'Z']"
   ]
  },
  {
   "cell_type": "code",
   "execution_count": 4,
   "id": "greatest-guarantee",
   "metadata": {},
   "outputs": [],
   "source": [
    "# 建立測試集\n",
    "for img_file in test_images_path: \n",
    "    file_name = img_file.split(os.path.sep)[-1]\n",
    "    shutil.copy(img_file, './crop_image/test/' + file_name)"
   ]
  },
  {
   "cell_type": "code",
   "execution_count": 7,
   "id": "lyric-doubt",
   "metadata": {},
   "outputs": [
    {
     "name": "stdout",
     "output_type": "stream",
     "text": [
      "Found 4660 files belonging to 32 classes.\n",
      "Using 4194 files for training.\n",
      "Found 4660 files belonging to 32 classes.\n",
      "Using 466 files for validation.\n"
     ]
    }
   ],
   "source": [
    "# 建立 train, validation dataset \n",
    "batch_size = 32 \n",
    "img_height, img_width, channel = 50, 36, 1 \n",
    "num_classes = len(characters)\n",
    "\n",
    "ds_train = tf.keras.preprocessing.image_dataset_from_directory(\n",
    "    './crop_image/train/',\n",
    "    labels='inferred',\n",
    "    label_mode='categorical',  \n",
    "    color_mode=\"grayscale\",\n",
    "    batch_size=batch_size,\n",
    "    image_size=(img_height, img_width), \n",
    "    validation_split=0.1,\n",
    "    subset=\"training\",\n",
    "    shuffle=True,\n",
    "    seed = 1314,\n",
    ")\n",
    "\n",
    "ds_validation = tf.keras.preprocessing.image_dataset_from_directory(\n",
    "    './crop_image/train/',\n",
    "    labels='inferred',\n",
    "    label_mode='categorical',  \n",
    "    color_mode=\"grayscale\",\n",
    "    batch_size=batch_size,\n",
    "    image_size=(img_height, img_width), \n",
    "    validation_split=0.1,\n",
    "    subset=\"validation\",\n",
    "    shuffle=True,\n",
    "    seed = 1314,\n",
    ")\n",
    "\n",
    "def data_preprocess(img, label):\n",
    "    return img/255, label\n",
    "\n",
    "ds_train = ds_train.map(data_preprocess)\n",
    "ds_validation = ds_validation.map(data_preprocess)"
   ]
  },
  {
   "cell_type": "markdown",
   "id": "laden-recording",
   "metadata": {},
   "source": [
    "## Step3: 建立,編譯與訓練模型"
   ]
  },
  {
   "cell_type": "code",
   "execution_count": 8,
   "id": "immediate-visit",
   "metadata": {},
   "outputs": [
    {
     "name": "stdout",
     "output_type": "stream",
     "text": [
      "Model: \"sequential\"\n",
      "_________________________________________________________________\n",
      "Layer (type)                 Output Shape              Param #   \n",
      "=================================================================\n",
      "conv2d (Conv2D)              (None, 48, 34, 32)        320       \n",
      "_________________________________________________________________\n",
      "max_pooling2d (MaxPooling2D) (None, 24, 17, 32)        0         \n",
      "_________________________________________________________________\n",
      "conv2d_1 (Conv2D)            (None, 22, 15, 64)        18496     \n",
      "_________________________________________________________________\n",
      "max_pooling2d_1 (MaxPooling2 (None, 11, 7, 64)         0         \n",
      "_________________________________________________________________\n",
      "flatten (Flatten)            (None, 4928)              0         \n",
      "_________________________________________________________________\n",
      "dropout (Dropout)            (None, 4928)              0         \n",
      "_________________________________________________________________\n",
      "dense (Dense)                (None, 128)               630912    \n",
      "_________________________________________________________________\n",
      "dense_1 (Dense)              (None, 32)                4128      \n",
      "=================================================================\n",
      "Total params: 653,856\n",
      "Trainable params: 653,856\n",
      "Non-trainable params: 0\n",
      "_________________________________________________________________\n"
     ]
    }
   ],
   "source": [
    "# 建立模型\n",
    "model = keras.Sequential(\n",
    "    [\n",
    "        keras.Input(shape=(img_height, img_width, channel)),\n",
    "        layers.Conv2D(32, kernel_size=(3, 3), activation=\"relu\"),\n",
    "        layers.MaxPooling2D(pool_size=(2, 2)),\n",
    "        layers.Conv2D(64, kernel_size=(3, 3), activation=\"relu\"),\n",
    "        layers.MaxPooling2D(pool_size=(2, 2)),\n",
    "        layers.Flatten(),\n",
    "        layers.Dropout(0.5),\n",
    "        layers.Dense(128, activation=\"relu\"),\n",
    "        layers.Dense(num_classes, activation=\"softmax\"),\n",
    "    ]\n",
    ")\n",
    "\n",
    "# 編譯模型\n",
    "model.compile(\n",
    "    optimizer=keras.optimizers.Adam(1e-3),\n",
    "    loss=\"categorical_crossentropy\",\n",
    "    metrics=[\"accuracy\"],\n",
    ")\n",
    "\n",
    "model.summary()"
   ]
  },
  {
   "cell_type": "code",
   "execution_count": 9,
   "id": "weekly-journal",
   "metadata": {},
   "outputs": [
    {
     "name": "stdout",
     "output_type": "stream",
     "text": [
      "Epoch 1/50\n",
      "132/132 [==============================] - 20s 139ms/step - loss: 2.3195 - accuracy: 0.4005 - val_loss: 0.2402 - val_accuracy: 0.9421\n",
      "Epoch 2/50\n",
      "132/132 [==============================] - 13s 98ms/step - loss: 0.1688 - accuracy: 0.9549 - val_loss: 0.1812 - val_accuracy: 0.9657\n",
      "Epoch 3/50\n",
      "132/132 [==============================] - 9s 69ms/step - loss: 0.0910 - accuracy: 0.9782 - val_loss: 0.1549 - val_accuracy: 0.9635\n",
      "Epoch 4/50\n",
      "132/132 [==============================] - 9s 65ms/step - loss: 0.0522 - accuracy: 0.9894 - val_loss: 0.1221 - val_accuracy: 0.9807\n",
      "Epoch 5/50\n",
      "132/132 [==============================] - 9s 71ms/step - loss: 0.0352 - accuracy: 0.9908 - val_loss: 0.1337 - val_accuracy: 0.9807\n",
      "Epoch 6/50\n",
      "132/132 [==============================] - 10s 71ms/step - loss: 0.0306 - accuracy: 0.9907 - val_loss: 0.1169 - val_accuracy: 0.9850\n",
      "Epoch 7/50\n",
      "132/132 [==============================] - 10s 74ms/step - loss: 0.0181 - accuracy: 0.9949 - val_loss: 0.1264 - val_accuracy: 0.9764\n",
      "Epoch 8/50\n",
      "132/132 [==============================] - 10s 76ms/step - loss: 0.0261 - accuracy: 0.9904 - val_loss: 0.1243 - val_accuracy: 0.9871\n",
      "Epoch 9/50\n",
      "132/132 [==============================] - 10s 74ms/step - loss: 0.0208 - accuracy: 0.9942 - val_loss: 0.1440 - val_accuracy: 0.9850\n",
      "Epoch 10/50\n",
      "132/132 [==============================] - 10s 72ms/step - loss: 0.0179 - accuracy: 0.9937 - val_loss: 0.1319 - val_accuracy: 0.9850\n",
      "Epoch 11/50\n",
      "132/132 [==============================] - 9s 66ms/step - loss: 0.0151 - accuracy: 0.9950 - val_loss: 0.1041 - val_accuracy: 0.9871\n",
      "Epoch 12/50\n",
      "132/132 [==============================] - 9s 66ms/step - loss: 0.0103 - accuracy: 0.9970 - val_loss: 0.1124 - val_accuracy: 0.9893\n",
      "Epoch 13/50\n",
      "132/132 [==============================] - 9s 69ms/step - loss: 0.0069 - accuracy: 0.9985 - val_loss: 0.1326 - val_accuracy: 0.9871\n",
      "Epoch 14/50\n",
      "132/132 [==============================] - 9s 71ms/step - loss: 0.0032 - accuracy: 1.0000 - val_loss: 0.1179 - val_accuracy: 0.9871\n",
      "Epoch 15/50\n",
      "132/132 [==============================] - 10s 73ms/step - loss: 0.0020 - accuracy: 0.9991 - val_loss: 0.1237 - val_accuracy: 0.9893\n",
      "Epoch 16/50\n",
      "132/132 [==============================] - 9s 70ms/step - loss: 0.0145 - accuracy: 0.9945 - val_loss: 0.1359 - val_accuracy: 0.9785\n",
      "Epoch 17/50\n",
      "132/132 [==============================] - 9s 71ms/step - loss: 0.0218 - accuracy: 0.9914 - val_loss: 0.1191 - val_accuracy: 0.9871\n",
      "Epoch 18/50\n",
      "132/132 [==============================] - 10s 76ms/step - loss: 0.0133 - accuracy: 0.9955 - val_loss: 0.1263 - val_accuracy: 0.9828\n",
      "Epoch 19/50\n",
      "132/132 [==============================] - 9s 67ms/step - loss: 0.0072 - accuracy: 0.9977 - val_loss: 0.1137 - val_accuracy: 0.9850\n",
      "Epoch 20/50\n",
      "132/132 [==============================] - 9s 67ms/step - loss: 0.0053 - accuracy: 0.9986 - val_loss: 0.1240 - val_accuracy: 0.9893\n",
      "Epoch 21/50\n",
      "132/132 [==============================] - 9s 68ms/step - loss: 0.0013 - accuracy: 0.9999 - val_loss: 0.1143 - val_accuracy: 0.9914\n",
      "Epoch 22/50\n",
      "132/132 [==============================] - 9s 67ms/step - loss: 7.9532e-04 - accuracy: 0.9998 - val_loss: 0.1226 - val_accuracy: 0.9871\n",
      "Epoch 23/50\n",
      "132/132 [==============================] - 9s 66ms/step - loss: 0.0051 - accuracy: 0.9985 - val_loss: 0.1358 - val_accuracy: 0.9871\n",
      "Epoch 24/50\n",
      "132/132 [==============================] - 9s 67ms/step - loss: 0.0039 - accuracy: 0.9989 - val_loss: 0.1661 - val_accuracy: 0.9850\n",
      "Epoch 25/50\n",
      "132/132 [==============================] - 9s 68ms/step - loss: 0.0117 - accuracy: 0.9963 - val_loss: 0.1715 - val_accuracy: 0.9807\n",
      "Epoch 26/50\n",
      "132/132 [==============================] - 9s 68ms/step - loss: 0.0162 - accuracy: 0.9955 - val_loss: 0.1386 - val_accuracy: 0.9893\n",
      "Epoch 27/50\n",
      "132/132 [==============================] - 11s 82ms/step - loss: 0.0069 - accuracy: 0.9980 - val_loss: 0.1253 - val_accuracy: 0.9893\n",
      "Epoch 28/50\n",
      "132/132 [==============================] - 10s 76ms/step - loss: 0.0025 - accuracy: 0.9988 - val_loss: 0.1428 - val_accuracy: 0.9914\n",
      "Epoch 29/50\n",
      "132/132 [==============================] - 10s 72ms/step - loss: 2.5953e-04 - accuracy: 1.0000 - val_loss: 0.1456 - val_accuracy: 0.9914\n",
      "Epoch 30/50\n",
      "132/132 [==============================] - 10s 71ms/step - loss: 0.0013 - accuracy: 0.9996 - val_loss: 0.1384 - val_accuracy: 0.9871\n",
      "Epoch 31/50\n",
      "132/132 [==============================] - 11s 85ms/step - loss: 0.0090 - accuracy: 0.9976 - val_loss: 0.1684 - val_accuracy: 0.9721\n",
      "Epoch 32/50\n",
      "132/132 [==============================] - 10s 77ms/step - loss: 0.0157 - accuracy: 0.9942 - val_loss: 0.1459 - val_accuracy: 0.9871\n",
      "Epoch 33/50\n",
      "132/132 [==============================] - 10s 74ms/step - loss: 0.0023 - accuracy: 0.9995 - val_loss: 0.1453 - val_accuracy: 0.9914\n",
      "Epoch 34/50\n",
      "132/132 [==============================] - 12s 89ms/step - loss: 0.0032 - accuracy: 0.9990 - val_loss: 0.1632 - val_accuracy: 0.9871\n",
      "Epoch 35/50\n",
      "132/132 [==============================] - 12s 86ms/step - loss: 0.0158 - accuracy: 0.9954 - val_loss: 0.1487 - val_accuracy: 0.9893\n",
      "Epoch 36/50\n",
      "132/132 [==============================] - 11s 84ms/step - loss: 0.0027 - accuracy: 0.9993 - val_loss: 0.1569 - val_accuracy: 0.9914\n",
      "Epoch 37/50\n",
      "132/132 [==============================] - 11s 83ms/step - loss: 0.0114 - accuracy: 0.9961 - val_loss: 0.1744 - val_accuracy: 0.9914\n",
      "Epoch 38/50\n",
      "132/132 [==============================] - 11s 80ms/step - loss: 0.0021 - accuracy: 0.9993 - val_loss: 0.1678 - val_accuracy: 0.9914\n",
      "Epoch 39/50\n",
      "132/132 [==============================] - 10s 74ms/step - loss: 0.0010 - accuracy: 1.0000 - val_loss: 0.1557 - val_accuracy: 0.9871\n",
      "Epoch 40/50\n",
      "132/132 [==============================] - 10s 77ms/step - loss: 0.0044 - accuracy: 0.9987 - val_loss: 0.1596 - val_accuracy: 0.9893\n",
      "Epoch 41/50\n",
      "132/132 [==============================] - 10s 76ms/step - loss: 0.0038 - accuracy: 0.9987 - val_loss: 0.1492 - val_accuracy: 0.9828\n",
      "Epoch 42/50\n",
      "132/132 [==============================] - 10s 73ms/step - loss: 0.0047 - accuracy: 0.9980 - val_loss: 0.1435 - val_accuracy: 0.9914\n",
      "Epoch 43/50\n",
      "132/132 [==============================] - 10s 76ms/step - loss: 0.0052 - accuracy: 0.9977 - val_loss: 0.1169 - val_accuracy: 0.9871\n",
      "Epoch 44/50\n",
      "132/132 [==============================] - 11s 79ms/step - loss: 0.0102 - accuracy: 0.9961 - val_loss: 0.1272 - val_accuracy: 0.9936\n",
      "Epoch 45/50\n",
      "132/132 [==============================] - 10s 73ms/step - loss: 0.0123 - accuracy: 0.9958 - val_loss: 0.1524 - val_accuracy: 0.9914\n",
      "Epoch 46/50\n",
      "132/132 [==============================] - 10s 73ms/step - loss: 0.0032 - accuracy: 0.9994 - val_loss: 0.1443 - val_accuracy: 0.9914\n",
      "Epoch 47/50\n",
      "132/132 [==============================] - 10s 75ms/step - loss: 0.0032 - accuracy: 0.9987 - val_loss: 0.1611 - val_accuracy: 0.9914\n",
      "Epoch 48/50\n",
      "132/132 [==============================] - 10s 74ms/step - loss: 0.0023 - accuracy: 0.9995 - val_loss: 0.1622 - val_accuracy: 0.9914\n",
      "Epoch 49/50\n",
      "132/132 [==============================] - 10s 75ms/step - loss: 3.2130e-04 - accuracy: 1.0000 - val_loss: 0.1697 - val_accuracy: 0.9914\n",
      "Epoch 50/50\n",
      "132/132 [==============================] - 10s 77ms/step - loss: 0.0063 - accuracy: 0.9975 - val_loss: 0.1701 - val_accuracy: 0.9893\n"
     ]
    }
   ],
   "source": [
    "# 訓練模型\n",
    "history = model.fit(ds_train, epochs=50, validation_data=ds_validation)"
   ]
  },
  {
   "cell_type": "code",
   "execution_count": 10,
   "id": "acceptable-velvet",
   "metadata": {},
   "outputs": [
    {
     "data": {
      "image/png": "[encoded data removed]",
      "text/plain": [
       "<Figure size 432x288 with 1 Axes>"
      ]
     },
     "metadata": {
      "needs_background": "light"
     },
     "output_type": "display_data"
    },
    {
     "data": {
      "image/png": "[encoded data removed]",
      "text/plain": [
       "<Figure size 432x288 with 1 Axes>"
      ]
     },
     "metadata": {
      "needs_background": "light"
     },
     "output_type": "display_data"
    }
   ],
   "source": [
    "loss = history.history['loss']\n",
    "accuracy = history.history['accuracy']\n",
    "val_loss = history.history['val_loss']\n",
    "val_accuracy = history.history['val_accuracy']\n",
    "epoch_list = [i+1 for i in range(len(loss))]\n",
    "\n",
    "\n",
    "plt.plot(epoch_list, accuracy)\n",
    "plt.plot(epoch_list, val_accuracy)\n",
    "plt.title('model accuracy')\n",
    "plt.ylabel('accuracy')\n",
    "plt.xlabel('epoch')\n",
    "plt.legend(['train', 'validation'], loc='upper left')\n",
    "plt.show()\n",
    "\n",
    "plt.plot(epoch_list, loss)\n",
    "plt.plot(epoch_list, val_loss)\n",
    "plt.title('model loss')\n",
    "plt.ylabel('loss')\n",
    "plt.xlabel('epoch')\n",
    "plt.legend(['train', 'validation'], loc='upper left')\n",
    "plt.show()"
   ]
  },
  {
   "cell_type": "markdown",
   "id": "invisible-ethiopia",
   "metadata": {},
   "source": [
    "## Step4: 模型預測"
   ]
  },
  {
   "cell_type": "code",
   "execution_count": 14,
   "id": "characteristic-minimum",
   "metadata": {},
   "outputs": [],
   "source": [
    "def my_predict(img_path):\n",
    "    try:\n",
    "        img, extracted_boxes = find_bbox(img_path)\n",
    "    except: \n",
    "         return 'connot recognize'\n",
    "    res = []\n",
    "    for i in range(4): \n",
    "        x, y, w, h = extracted_boxes[i]\n",
    "        x, y = abs(x), abs(y)\n",
    "        crop_img = cv2.resize(img[y:y+h, x:x+w], (img_width, img_height), interpolation=cv2.INTER_AREA)\n",
    "        crop_img = cv2.cvtColor(crop_img, cv2.COLOR_BGR2GRAY)\n",
    "        crop_img = np.reshape(crop_img, (1, img_height, img_width, channel))\n",
    "        crop_img = crop_img/255\n",
    "        res.append(characters[np.argmax(model.predict(crop_img)[0])])\n",
    "    return ''.join(res)"
   ]
  },
  {
   "cell_type": "code",
   "execution_count": 28,
   "id": "internal-tourism",
   "metadata": {},
   "outputs": [
    {
     "name": "stdout",
     "output_type": "stream",
     "text": [
      "測試準確度為: 0.935\n"
     ]
    }
   ],
   "source": [
    "correct_count = 0\n",
    "\n",
    "for file_name in os.listdir('./crop_image/test/'):\n",
    "    path = './crop_image/test/' + file_name\n",
    "    if file_name.split('.')[0] == my_predict(path):\n",
    "        correct_count +=1\n",
    "        \n",
    "print('測試準確度為:', correct_count/len(os.listdir('./crop_image/test/')))"
   ]
  }
 ],
 "metadata": {
  "kernelspec": {
   "display_name": "Python 3",
   "language": "python",
   "name": "python3"
  },
  "language_info": {
   "codemirror_mode": {
    "name": "ipython",
    "version": 3
   },
   "file_extension": ".py",
   "mimetype": "text/x-python",
   "name": "python",
   "nbconvert_exporter": "python",
   "pygments_lexer": "ipython3",
   "version": "3.7.8"
  }
 },
 "nbformat": 4,
 "nbformat_minor": 5
}
